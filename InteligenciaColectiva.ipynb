{
 "cells": [
  {
   "cell_type": "markdown",
   "metadata": {
    "collapsed": true
   },
   "source": [
    "# INTELIGENCIA COLECTIVA \n",
    "Dr. Edwin Villanueva Talavera (ervillanueva@pucp.edu.pe)"
   ]
  },
  {
   "cell_type": "markdown",
   "metadata": {},
   "source": [
    "## Experimentando con Algoritmos de Inteligencia Colectiva\n",
    "\n",
    "En este notebook se presenta la implementación de dos algoritmos de Inteligencia Colectiva para minimizar funciones continuas no convexas: el Algoritmo PSO y el Algoritmo ABC.  \n"
   ]
  },
  {
   "cell_type": "markdown",
   "metadata": {},
   "source": [
    "### PARTICLE SWARM OPTIMIZATION (PSO) \n"
   ]
  },
  {
   "cell_type": "markdown",
   "metadata": {},
   "source": [
    "<b> Define clase Particle. Un Objeto de esta clase almacena informacion de una particula (solucion candidata) en PSO </b>"
   ]
  },
  {
   "cell_type": "code",
   "execution_count": 2,
   "metadata": {
    "collapsed": true
   },
   "outputs": [],
   "source": [
    "class Particle(object):\n",
    "    \"\"\"Clase Particle para almacenar informacion de una particula en PSO \"\"\"\n",
    "    \n",
    "    def __init__(self, initial_position, initial_velocity, fitness): #constructor recibe posicion y velocidad inicial y fitness\n",
    "        self.position = initial_position\n",
    "        self.velocity = initial_velocity\n",
    "        self.fitness = fitness\n",
    "        self.best_position = initial_position\n",
    "        self.best_fitness = fitness"
   ]
  },
  {
   "cell_type": "markdown",
   "metadata": {},
   "source": [
    "<b> Define clase PSO. Un Objeto de esta clase instancia un optimizador PSO para un problema dado </b>"
   ]
  },
  {
   "cell_type": "code",
   "execution_count": 3,
   "metadata": {
    "collapsed": true
   },
   "outputs": [],
   "source": [
    "class PSO:\n",
    "    \"\"\" Clase que implementa el optimizador PSO. El constructor puede recibir:\n",
    "        fn: La funcion a ser minimizada\n",
    "        PN: numero de particulas (\n",
    "        Xmin: vector con los limites inferiores para delimitar el espacio de busqueda\n",
    "        Xmax: vector con los limites superiores para delimitar el espacio de busqueda\n",
    "        w: factor de inercia de la particula\n",
    "        phi1: peso de aprendizaje cognitivo\n",
    "        phi2: peso de aprendizaje social\n",
    "        max_iter: número total de iteraciones que ejecutará PSO \"\"\"\n",
    "\n",
    "    def __init__(self, fn, PN, Xmin, Xmax, w, phi1, phi2, max_iter):  \n",
    "        self.fn = fn\n",
    "        self.PN = PN\n",
    "        self.Xmin = np.array(Xmin)\n",
    "        self.Xmax = np.array(Xmax)\n",
    "        self.w = w\n",
    "        self.phi1 = phi1\n",
    "        self.phi2 = phi2\n",
    "        self.max_iter = max_iter\n",
    "        self.particles = []\n",
    "        self.best_position_swarm = []\n",
    "        self.best_fitness_swarm = []\n",
    "        \n",
    "    def fitness(self, position):  \n",
    "        # el fitness para fn positivos es trasladado a valores entre [0,1]: 0 para fn=inf y 1 para fn=0. \n",
    "        # el fitness para fn negativos es trasladado a valores entre ]1,inf]: 1 para fn=-0 y inf para fn=-inf    \n",
    "        result = self.fn(position)\n",
    "        if result >= 0:\n",
    "            fitness = 1 / (1 + result)\n",
    "        else:\n",
    "            fitness = 1 + abs(result)\n",
    "        return fitness\n",
    "        \n",
    "    def create_particle(self):   # Instancia una particula aleatoria dentro de los limites de busqueda,\n",
    "        position = self.Xmin + rand.random()*(self.Xmax - self.Xmin)\n",
    "        Vmin = -1*(self.Xmax - self.Xmin)\n",
    "        Vmax = (self.Xmax - self.Xmin)\n",
    "        velocity = Vmin + rand.random()*(Vmax - Vmin)\n",
    "        fitness = self.fitness(position)\n",
    "        return Particle(position, velocity,fitness) \n",
    "    \n",
    "    def initialize_particles(self):  # crea las SN particles de PSO\n",
    "        self.particles = [self.create_particle() for i in range(self.PN)]\n",
    "    \n",
    "    def get_bestparticle(self):\n",
    "        best = max(self.particles, key=attrgetter('fitness'))\n",
    "        return best\n",
    "        \n",
    "    def optimize(self):\n",
    "        start_time = time.time()\n",
    "        print ('Iniciando optimizacion con Algoritmo PSO')\n",
    "        self.initialize_particles() # inicializa el swarm de particulas\n",
    "        \n",
    "        history_bestfitness = []\n",
    "        best_particle = self.get_bestparticle()\n",
    "        self.best_position_swarm, self.best_fitness_swarm = deepcopy(best_particle.position), best_particle.fitness \n",
    "        history_bestfitness.append(self.best_fitness_swarm)  # almacena la historia de mejores fitness en cada ciclo\n",
    "        print(\"Mejor solucion inicial = {}, fitness = {}\".format(self.best_position_swarm, self.best_fitness_swarm))\n",
    "\n",
    "        for g in range(self.max_iter):  # For each cycle\n",
    "\n",
    "            for i in range(self.PN): # por cada particula en el swarm\n",
    "\n",
    "                # si la particula i es mejor que la mejor posicion que ya vió la particula\n",
    "                if self.particles[i].fitness > self.particles[i].best_fitness: \n",
    "                    self.particles[i].best_position = deepcopy(self.particles[i].position)\n",
    "                    self.particles[i].best_fitness =  self.particles[i].fitness\n",
    "                \n",
    "                # si la mejor posicion que ya vió la particula i es mejor que la mejor position de todo el swarm\n",
    "                if self.particles[i].best_fitness > self.best_fitness_swarm:\n",
    "                    self.best_position_swarm = deepcopy(self.particles[i].best_position)\n",
    "                    self.best_fitness_swarm  = self.particles[i].best_fitness\n",
    "                    \n",
    "            # Actualiza la velocidad y position de cada particula en el swarm\n",
    "            for i in range(self.PN): \n",
    "                r1 = rand.random()\n",
    "                r2 = rand.random()\n",
    "                self.particles[i].velocity = self.w*self.particles[i].velocity + self.phi1*r1*(self.particles[i].best_position - self.particles[i].position) + self.phi2*r2*(self.best_fitness_swarm - self.particles[i].position) \n",
    "                self.particles[i].position = self.particles[i].position + self.particles[i].velocity\n",
    "                self.particles[i].fitness  = self.fitness(self.particles[i].position)\n",
    "                \n",
    "             ## Obtiene la mejor posicion encontrada en este ciclo\n",
    "            best_particle = self.get_bestparticle()  # mejor posicion del presente ciclo \n",
    "            history_bestfitness.append ( best_particle.fitness )\n",
    "                \n",
    "            if (g % 5 == 0): # muestra resultados cada 5 ciclos\n",
    "                print(\"Ciclo {}, Mejor solucion del ciclo = {} (fitness = {}))\".format(g, best_particle.position, best_particle.fitness ))\n",
    "        \n",
    "        end_time = time.time()\n",
    "        print(\"Mejor solucion encontrada por PSO: {}, fitness = {}. Tomo {} seg \".format(self.best_position_swarm, self.best_fitness_swarm, end_time-start_time))\n",
    "        return self.best_position_swarm, self.best_fitness_swarm, history_bestfitness\n",
    "    "
   ]
  },
  {
   "cell_type": "markdown",
   "metadata": {},
   "source": [
    "### ARTIFICIAL BEE COLONY (ABC) \n"
   ]
  },
  {
   "cell_type": "markdown",
   "metadata": {},
   "source": [
    "<b> Define clase FoodSource. Un Objeto de esta clase almacena informacion de una fuente de comida (solucion candidata) en ABC </b>\n"
   ]
  },
  {
   "cell_type": "code",
   "execution_count": 4,
   "metadata": {
    "collapsed": true
   },
   "outputs": [],
   "source": [
    "class FoodSource(object):\n",
    "    \"\"\"Clase FoodSource para almacenar informacion de una fuente de comida en ABC \"\"\"\n",
    "    \n",
    "    def __init__(self, solution, fitness):  # el constructor recibe una posible solucion (localizacion) y su fitness\n",
    "        self.solution = solution\n",
    "        self.fitness = fitness\n",
    "        self.trials = 0  # esta informacion almacena las veces que la fuente se ha intentado mejorar sin exito  "
   ]
  },
  {
   "cell_type": "markdown",
   "metadata": {},
   "source": [
    "<b> Define clase ABC. Un Objeto de esta clase instancia un optimizador ABC para un problema dado </b>"
   ]
  },
  {
   "cell_type": "code",
   "execution_count": 5,
   "metadata": {
    "collapsed": true
   },
   "outputs": [],
   "source": [
    "import numpy as np\n",
    "import time\n",
    "import random as rand\n",
    "from operator import attrgetter\n",
    "from copy import deepcopy\n",
    "import matplotlib.pyplot as plt\n",
    "\n",
    "class ABC:\n",
    "    \"\"\" Clase que implementa el optimizador ABC. El constructor puede recibir:\n",
    "        fn: La funcion a ser minimizada\n",
    "        SN: numero de fuentes de comida (Source Number)\n",
    "        Xmin: vector con los limites inferiores para delimitar el espacio de busqueda\n",
    "        Xmax: vector con los limites superiores para delimitar el espacio de busqueda\n",
    "        limit: numero de ciclos que será conservada una solución sin mejorar antes de ser reemplazada \n",
    "        max_iter: número total de iteraciones que ejecutará ABC \"\"\"\n",
    "\n",
    "    def __init__(self, fn, SN, Xmin, Xmax, limit, max_iter ):  \n",
    "        self.fn = fn\n",
    "        self.SN = SN\n",
    "        self.Xmin = np.array(Xmin)\n",
    "        self.Xmax = np.array(Xmax)\n",
    "        self.limit = limit\n",
    "        self.max_iter = max_iter\n",
    "        self.foodsources = []\n",
    "    \n",
    "    def fitness(self, solution):  \n",
    "        # el fitness para fn positivos es trasladado a valores entre [0,1]: 0 para fn=inf y 1 para fn=0. \n",
    "        # el fitness para fn negativos es trasladado a valores entre ]1,inf]: 1 para fn=-0 y inf para fn=-inf    \n",
    "            \n",
    "        #return -1*self.fn(solution)\n",
    "        result = self.fn(solution)\n",
    "        if result >= 0:\n",
    "            fitness = 1 / (1 + result)\n",
    "        else:\n",
    "            fitness = 1 + abs(result)\n",
    "        return fitness\n",
    "        \n",
    "    def get_randomsolution(self, Xmin, Xmax):  # retorna una solucion generada aleatoriamente dentro de los limites Xmin y Xmax  \n",
    "        r = rand.random()\n",
    "        return  Xmin + r*(Xmax - Xmin)\n",
    "        \n",
    "    def create_foodsource(self):   # Instancia una fuente de comida aleatoria dentro de los limites de busqueda,\n",
    "        solution = self.get_randomsolution(self.Xmin, self.Xmax)\n",
    "        fitness = self.fitness(solution)\n",
    "        return FoodSource(solution, fitness)   \n",
    "    \n",
    "    def initialize_foodsources(self):  # crea las SN fuentes de comida\n",
    "        self.foodsources = [self.create_foodsource() for i in range(self.SN)]\n",
    "\n",
    "    def produce_neighboursolution(self, foodsource_index):  # genera una solucion candidata en la vecindad de la fuente foodsource_index\n",
    "        Xi = self.foodsources[foodsource_index].solution  # solucion de la fuente pasada\n",
    "        other_source_indexes = list(range(self.SN)) \n",
    "        del(other_source_indexes[foodsource_index]) # remueve la fuente pasada para no ser seleccionada\n",
    "        k = rand.choice(other_source_indexes)  # escoje aleatoriamente otra fuente para generar una solucion candidata \n",
    "        Xk = self.foodsources[k].solution  # solucion de la otra fuente\n",
    "        r = rand.uniform(-1, 1)\n",
    "        return  Xi + r * (Xi - Xk)\n",
    "     \n",
    "    def get_bestsolution(self, X, V):  # devuelve la solucion con mejor fitness entre la solucion actual X y una solucion candidata V \n",
    "        if self.fitness(V) > self.fitness(X):\n",
    "            return V\n",
    "        else:\n",
    "            return X        \n",
    "\n",
    "    def get_probs_foodsources(self): # calcula las probabilidades de las fuentes de comida\n",
    "        fitness_sum = sum([fs.fitness for fs in self.foodsources])\n",
    "        return [fs.fitness/fitness_sum  for fs in self.foodsources]\n",
    "    \n",
    "    def update_solution_foodsource(self, foodsource, new_solution):  # actualiza la solucion de la fuente de comida\n",
    "        if np.array_equal(new_solution, foodsource.solution): # si es la misma solucion entonces solo aumenta trials de la fuente\n",
    "            foodsource.trials += 1\n",
    "        else: # si la nueva solucion es mejor que la actual de la fuente de comida -> actualiza solucion y fitness\n",
    "            foodsource.solution = new_solution\n",
    "            foodsource.fitness = self.fitness(new_solution)\n",
    "            foodsource.trials = 0\n",
    "\n",
    "    def selection(self, probabilities):  # selecciona una fuente de comida basada en sus probabilidades\n",
    "        return rand.choices(range(self.SN), probabilities)[0]\n",
    "    \n",
    "    def get_bestfoodsource(self):\n",
    "        best = max(self.foodsources, key=attrgetter('fitness'))\n",
    "        return best\n",
    "        \n",
    "    def optimize(self):\n",
    "        start_time = time.time()\n",
    "        print ('Iniciando optimizacion con Algoritmo ABC')\n",
    "        self.initialize_foodsources() # inicializa la poblacion de fuentes de comida\n",
    "        \n",
    "        history_bestfitness = []\n",
    "        best_foodsource = self.get_bestfoodsource()\n",
    "        best_solution, best_fitness = deepcopy(best_foodsource.solution), best_foodsource.fitness \n",
    "        history_bestfitness.append(best_fitness)  # almacena la historia de mejores fitness en cada ciclo\n",
    "        print(\"Mejor solucion inicial = {}, fitness = {}\".format(best_solution, best_fitness))\n",
    "\n",
    "        for g in range(self.max_iter):  # For each cycle\n",
    "            \n",
    "            ## Etapa de Abejas empleadas (Employed bee)\n",
    "            for i in range(self.SN): # por cada abeja empleada\n",
    "                foodsource = self.foodsources[i]\n",
    "                Vi = self.produce_neighboursolution(i)  # produce una solucion en la vecindad de foodsource \n",
    "                solution = self.get_bestsolution(foodsource.solution, Vi) # selecciona la mejor solucion entre la actual y la candidata\n",
    "                self.update_solution_foodsource(foodsource, solution) # actualiza la solucion en la fuente escogida\n",
    "            \n",
    "            ## Etapa de Abejas Observadoras (Onlooker bee)\n",
    "            for i in range(self.SN): # por cada abeja observadora\n",
    "                probabilities = self.get_probs_foodsources()   # calcula las probabilidades de todas las fuentes de comida \n",
    "                index_foodsource = self.selection(probabilities) # selecciona una fuente de comida en base a las probabilidades (metodo ruleta)\n",
    "                foodsource = self.foodsources[index_foodsource]\n",
    "                Vi = self.produce_neighboursolution(index_foodsource)  # produce una solucion en la vecindad de selected_foodsource \n",
    "                solution = self.get_bestsolution(foodsource.solution, Vi) # selecciona la mejor solucion entre la fuente seleccionada actual y la candidata\n",
    "                self.update_solution_foodsource(foodsource, solution)  # actualiza la solucion en la fuente escogida        \n",
    "            \n",
    "            ## Etapa de Abejas exploradoras (Scout bee)\n",
    "            for i in range(self.SN): # por cada fuente de comida\n",
    "                foodsource = self.foodsources[i]\n",
    "                if foodsource.trials > self.limit:  # si el numero de veces que se intento mejorar la fuente excede el limite entonces abandona \n",
    "                    self.foodsources[i] = self.create_foodsource() # reemplaza la fuente de comida i  por una nueva \n",
    "            \n",
    "             ## Memoriza la mejor solucion alcanzada hasta ahora \n",
    "            best_foodsource = self.get_bestfoodsource()  # mejor fuente del presente ciclo \n",
    "            history_bestfitness.append ( best_foodsource.fitness )\n",
    "            if best_foodsource.fitness >  best_fitness:  # si la mejor solucion del ciclo es mejor que la mejor solucion histórica\n",
    "                best_solution, best_fitness = deepcopy(best_foodsource.solution), best_foodsource.fitness\n",
    "                \n",
    "            if (g % 5 == 0): # muestra resultados cada 5 ciclos\n",
    "                print(\"Ciclo {}, Mejor solucion del ciclo = {} (fitness = {}))\".format(g, best_foodsource.solution, best_foodsource.fitness ))\n",
    "        \n",
    "        end_time = time.time()\n",
    "        print(\"Mejor solucion encontrada por ABC: {}, fitness = {}. Tomo {} seg \".format(best_solution, best_fitness, end_time-start_time))\n",
    "        return best_solution, best_fitness, history_bestfitness\n",
    "    "
   ]
  },
  {
   "cell_type": "markdown",
   "metadata": {},
   "source": [
    " ### Funciones benchmark para evaluar el algoritmo ABC y PSO\n",
    "  "
   ]
  },
  {
   "cell_type": "markdown",
   "metadata": {},
   "source": [
    "<b>Define 3 funciones benchmark para probar el algoritmo ABC para encontrar sus minimos globales. </b> El fitness del optimo global en todos los casos es 0"
   ]
  },
  {
   "cell_type": "code",
   "execution_count": 6,
   "metadata": {
    "collapsed": true
   },
   "outputs": [],
   "source": [
    "def ackley(d, *, a=20, b=0.2, c=2*np.pi):\n",
    "    sum_part1 = np.sum([x**2 for x in d])\n",
    "    part1 = -1.0 * a * np.exp(-1.0 * b * np.sqrt((1.0/len(d)) * sum_part1))\n",
    "    sum_part2 = np.sum([np.cos(c * x) for x in d])\n",
    "    part2 = -1.0 * np.exp((1.0 / len(d)) * sum_part2)\n",
    "\n",
    "    return a + np.exp(1) + part1 + part2\n",
    "\n",
    "def rastrigin(d):\n",
    "    sum_i = np.sum([x**2 - 10*np.cos(2 * np.pi * x) for x in d])\n",
    "    return 10 * len(d) + sum_i\n",
    "\n",
    " \n",
    "def rosenbrock(d, a=1, b=100):\n",
    "    return (a - d[0])**2 + b * (d[1] - d[0]**2)**2"
   ]
  },
  {
   "cell_type": "markdown",
   "metadata": {},
   "source": [
    " ## Probando el algoritmo PSO\n",
    " \n",
    " los parametros que se pasan a PSO son (fn, PN, Xmin, Xmax, w, phi1, phi2, max_iter):\n",
    " \n",
    "        fn: La funcion a ser minimizada\n",
    "        PN: numero de particulas (\n",
    "        Xmin: vector con los limites inferiores para delimitar el espacio de busqueda\n",
    "        Xmax: vector con los limites superiores para delimitar el espacio de busqueda\n",
    "        w: factor de inercia de la particula\n",
    "        phi1: peso de aprendizaje cognitivo\n",
    "        phi2: peso de aprendizaje social\n",
    "        max_iter: número total de iteraciones que ejecutará PSO"
   ]
  },
  {
   "cell_type": "markdown",
   "metadata": {},
   "source": [
    "<b> Optimizacion PSO en la funcion Ackley </b>"
   ]
  },
  {
   "cell_type": "code",
   "execution_count": 7,
   "metadata": {},
   "outputs": [
    {
     "name": "stdout",
     "output_type": "stream",
     "text": [
      "Iniciando optimizacion con Algoritmo PSO\n",
      "Mejor solucion inicial = [ 1.94136275  1.94136275], fitness = 0.13137364486695305\n",
      "Ciclo 0, Mejor solucion del ciclo = [-0.03185563 -0.03185563] (fitness = 0.8469209928708341))\n",
      "Ciclo 5, Mejor solucion del ciclo = [-0.06940161 -0.06940161] (fitness = 0.6585349701013301))\n",
      "Ciclo 10, Mejor solucion del ciclo = [ 0.06943034  0.06943034] (fitness = 0.6584039921493158))\n",
      "Ciclo 15, Mejor solucion del ciclo = [ 0.20306731  0.20306731] (fitness = 0.3147617755394473))\n",
      "Ciclo 20, Mejor solucion del ciclo = [-0.07661841 -0.07661841] (fitness = 0.6264972819423064))\n",
      "Ciclo 25, Mejor solucion del ciclo = [ 0.14785425  0.14785425] (fitness = 0.4029983284892806))\n",
      "Ciclo 30, Mejor solucion del ciclo = [ 0.15578285  0.15578285] (fitness = 0.3869045651072496))\n",
      "Ciclo 35, Mejor solucion del ciclo = [ 0.02694886  0.02694886] (fitness = 0.8725215373425894))\n",
      "Ciclo 40, Mejor solucion del ciclo = [ 0.25250622  0.25250622] (fitness = 0.2689003366403388))\n",
      "Ciclo 45, Mejor solucion del ciclo = [ 0.97080002  0.97080002] (fitness = 0.21859269008495716))\n",
      "Mejor solucion encontrada por PSO: [ 0.00076536  0.00076536], fitness = 0.996916897636756. Tomo 0.1077115535736084 seg \n"
     ]
    },
    {
     "data": {
      "image/png": "[encoded data removed]",
      "text/plain": [
       "<matplotlib.figure.Figure at 0x245a7de3da0>"
      ]
     },
     "metadata": {},
     "output_type": "display_data"
    },
    {
     "name": "stdout",
     "output_type": "stream",
     "text": [
      "Minimo encontrado con PSO en funcion Ackley: [ 0.00076536  0.00076536], fn=0.003092637280552424\n"
     ]
    }
   ],
   "source": [
    "# instancia optimizador PSO para minimizar la funcion ackley\n",
    "pso_optimizer_ackley = PSO(ackley, 10, [-20, -20], [20, 20], 0.01, 2, 2, 50)\n",
    "best_solution, best_fitness, history_bestfitness = pso_optimizer_ackley.optimize()\n",
    "\n",
    "# muestra la evolucion del mejor fitness\n",
    "plt.plot(history_bestfitness)\n",
    "plt.show()\n",
    "\n",
    "ackley_best_solution = ackley(best_solution)\n",
    "print(\"Minimo encontrado con PSO en funcion Ackley: {}, fn={}\".format(best_solution, ackley_best_solution))"
   ]
  },
  {
   "cell_type": "markdown",
   "metadata": {},
   "source": [
    " ## Probando el algoritmo ABC\n",
    " \n",
    " los parametros que se pasan a ABC son (fn, SN, Xmin, Xmax, limit, max_iter):\n",
    " \n",
    "        fn: La funcion a ser minimizada\n",
    "        SN: numero de fuentes de comida (Source Number)\n",
    "        Xmin: vector con los limites inferiores para delimitar el espacio de busqueda\n",
    "        Xmax: vector con los limites superiores para delimitar el espacio de busqueda\n",
    "        limit: numero de ciclos que será conservada una solución sin mejorar antes de ser reemplazada \n",
    "        max_iter: número total de iteraciones que ejecutará ABC"
   ]
  },
  {
   "cell_type": "markdown",
   "metadata": {},
   "source": [
    "<b> Optimizacion ABC en la funcion Ackley </b>"
   ]
  },
  {
   "cell_type": "code",
   "execution_count": 8,
   "metadata": {},
   "outputs": [
    {
     "name": "stdout",
     "output_type": "stream",
     "text": [
      "Iniciando optimizacion con Algoritmo ABC\n",
      "Mejor solucion inicial = [-2.09280228 -2.09280228], fitness = 0.12115122575763215\n",
      "Ciclo 0, Mejor solucion del ciclo = [ 0.19783137  0.19783137] (fitness = 0.3210947697733063))\n",
      "Ciclo 5, Mejor solucion del ciclo = [-0.02047481 -0.02047481] (fitness = 0.9057133503303149))\n",
      "Ciclo 10, Mejor solucion del ciclo = [-0.00079268 -0.00079268] (fitness = 0.996806062117323))\n",
      "Ciclo 15, Mejor solucion del ciclo = [ -4.47153976e-06  -4.47153976e-06] (fitness = 0.9999821130960748))\n",
      "Ciclo 20, Mejor solucion del ciclo = [ -6.77034330e-07  -6.77034330e-07] (fitness = 0.999997291845601))\n",
      "Ciclo 25, Mejor solucion del ciclo = [  1.02413594e-07   1.02413594e-07] (fitness = 0.9999995903452366))\n",
      "Ciclo 30, Mejor solucion del ciclo = [  1.09459432e-08   1.09459432e-08] (fitness = 0.9999999562162248))\n",
      "Ciclo 35, Mejor solucion del ciclo = [  1.41312726e-11   1.41312726e-11] (fitness = 0.9999999999434732))\n",
      "Ciclo 40, Mejor solucion del ciclo = [  1.41312726e-11   1.41312726e-11] (fitness = 0.9999999999434732))\n",
      "Ciclo 45, Mejor solucion del ciclo = [ -1.60274472e-12  -1.60274472e-12] (fitness = 0.9999999999935913))\n",
      "Mejor solucion encontrada por ABC: [ -1.01921899e-13  -1.01921899e-13], fitness = 0.9999999999995919. Tomo 0.18051671981811523 seg \n"
     ]
    },
    {
     "data": {
      "image/png": "[encoded data removed]",
      "text/plain": [
       "<matplotlib.figure.Figure at 0x245a9530390>"
      ]
     },
     "metadata": {},
     "output_type": "display_data"
    },
    {
     "name": "stdout",
     "output_type": "stream",
     "text": [
      "Minimo encontrado con ABC en funcion Ackley: [ -1.01921899e-13  -1.01921899e-13], fn=4.0811798385220754e-13\n"
     ]
    }
   ],
   "source": [
    "# instancia optimizador ABC para minimizar la funcion ackley\n",
    "abc_optimizer_ackley = ABC(ackley, 5, [-20, -20], [20, 20],25, 50)\n",
    "best_solution, best_fitness, history_bestfitness = abc_optimizer_ackley.optimize()\n",
    "\n",
    "# muestra la evolucion del mejor fitness\n",
    "plt.plot(history_bestfitness)\n",
    "plt.show()\n",
    "\n",
    "ackley_best_solution = ackley(best_solution)\n",
    "print(\"Minimo encontrado con ABC en funcion Ackley: {}, fn={}\".format(best_solution, ackley_best_solution))"
   ]
  },
  {
   "cell_type": "markdown",
   "metadata": {},
   "source": [
    "<b> Optimizacion ABC en la funcion Rastrigin </b>"
   ]
  },
  {
   "cell_type": "code",
   "execution_count": null,
   "metadata": {
    "collapsed": true
   },
   "outputs": [],
   "source": [
    "# instancia optimizador ABC para minimizar la funcion Rastrigin \n",
    "abc_optimizer_rastrigin = ABC(rastrigin, 5, [-5, -5], [5, 5], 25, 50)\n",
    "best_solution, best_fitness, history_bestfitness = abc_optimizer_rastrigin.optimize()\n",
    "\n",
    "# muestra la evolucion del mejor fitness\n",
    "plt.plot(history_bestfitness)\n",
    "plt.show()\n",
    "\n",
    "ackley_best_solution = rastrigin(best_solution)\n",
    "print(\"Minimo encontrado con ABC en funcion Rastrigin : {}, fn={}\".format(best_solution, ackley_best_solution))"
   ]
  },
  {
   "cell_type": "markdown",
   "metadata": {},
   "source": [
    "<b> Optimizacion ABC en la funcion Rosenbrock </b>"
   ]
  },
  {
   "cell_type": "code",
   "execution_count": null,
   "metadata": {
    "collapsed": true
   },
   "outputs": [],
   "source": [
    "# instancia optimizador ABC para minimizar la funcion Rosenbrock \n",
    "abc_optimizer_rosenbrock = ABC(rosenbrock, 5, [-3, -3], [3, 3], 25, 50)\n",
    "best_solution, best_fitness, history_bestfitness = abc_optimizer_rosenbrock.optimize()\n",
    "\n",
    "# muestra la evolucion del mejor fitness\n",
    "plt.plot(history_bestfitness)\n",
    "plt.show()\n",
    "\n",
    "ackley_best_solution = rosenbrock(best_solution)\n",
    "print(\"Minimo encontrado con ABC en funcion Rosenbrock : {}, fn={}\".format(best_solution, ackley_best_solution))"
   ]
  }
 ],
 "metadata": {
  "kernelspec": {
   "display_name": "Python 3",
   "language": "python",
   "name": "python3"
  },
  "language_info": {
   "codemirror_mode": {
    "name": "ipython",
    "version": 3
   },
   "file_extension": ".py",
   "mimetype": "text/x-python",
   "name": "python",
   "nbconvert_exporter": "python",
   "pygments_lexer": "ipython3",
   "version": "3.7.1"
  }
 },
 "nbformat": 4,
 "nbformat_minor": 2
}
